{
 "cells": [
  {
   "cell_type": "code",
   "execution_count": 5,
   "metadata": {},
   "outputs": [
    {
     "name": "stdout",
     "output_type": "stream",
     "text": [
      "Overwriting list_index.py\n"
     ]
    }
   ],
   "source": [
    "%%writefile list_index.py\n",
    "def list_index():\n",
    "    num = list(range(11))\n",
    "    try:\n",
    "        index = int(input(\"Enter Index: \"))\n",
    "        print(num[index])\n",
    "    except IndexError:\n",
    "        print(\"-1\")\n",
    "        return 1\n",
    "    except ValueError:\n",
    "        print(\"프로그램을 종료합니다.\")\n",
    "        return -1\n",
    "    else:\n",
    "        return 1\n",
    "\n",
    "if __name__==\"__main__\":\n",
    "    while True:\n",
    "        result = list_index()\n",
    "        if result == -1:\n",
    "            break"
   ]
  },
  {
   "cell_type": "code",
   "execution_count": 6,
   "metadata": {},
   "outputs": [
    {
     "name": "stdout",
     "output_type": "stream",
     "text": [
      "Enter Index: -1\n",
      "10\n",
      "Enter Index: \n",
      "프로그램을 종료합니다.\n"
     ]
    }
   ],
   "source": [
    "%run list_index.py"
   ]
  },
  {
   "cell_type": "code",
   "execution_count": null,
   "metadata": {},
   "outputs": [],
   "source": []
  }
 ],
 "metadata": {
  "kernelspec": {
   "display_name": "Python 3",
   "language": "python",
   "name": "python3"
  },
  "language_info": {
   "codemirror_mode": {
    "name": "ipython",
    "version": 3
   },
   "file_extension": ".py",
   "mimetype": "text/x-python",
   "name": "python",
   "nbconvert_exporter": "python",
   "pygments_lexer": "ipython3",
   "version": "3.8.5"
  }
 },
 "nbformat": 4,
 "nbformat_minor": 4
}
