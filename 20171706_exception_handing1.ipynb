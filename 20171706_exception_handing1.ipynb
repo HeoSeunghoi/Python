{
 "cells": [
  {
   "cell_type": "code",
   "execution_count": 4,
   "metadata": {},
   "outputs": [
    {
     "name": "stdout",
     "output_type": "stream",
     "text": [
      "Overwriting ScoreError.py\n"
     ]
    }
   ],
   "source": [
    "%%writefile ScoreError.py\n",
    "class ScoreException(Exception):\n",
    "    def __init__(self,msg):\n",
    "        self._message = msg\n",
    "def input_score():\n",
    "    score = int(input(\"점수를 입력하시오:\"))\n",
    "    if score < 0 or score > 100:\n",
    "        raise ScoreException(\"점수는 0점에서 100점 사이의 값이어야 합니다.\")\n",
    "    else:\n",
    "        return score\n",
    "\n",
    "if __name__ == \"__main__\":\n",
    "    try:\n",
    "        score = input_score()\n",
    "    except ScoreException as e:\n",
    "        print(e.args[0])\n",
    "    else:\n",
    "        print(\"점수는 %s입니다.\"%score)"
   ]
  },
  {
   "cell_type": "code",
   "execution_count": 5,
   "metadata": {},
   "outputs": [
    {
     "name": "stdout",
     "output_type": "stream",
     "text": [
      "점수를 입력하시오:101\n",
      "점수는 0점에서 100점 사이의 값이어야 합니다.\n"
     ]
    }
   ],
   "source": [
    "%run ScoreError.py"
   ]
  },
  {
   "cell_type": "code",
   "execution_count": null,
   "metadata": {},
   "outputs": [],
   "source": []
  }
 ],
 "metadata": {
  "kernelspec": {
   "display_name": "Python 3",
   "language": "python",
   "name": "python3"
  },
  "language_info": {
   "codemirror_mode": {
    "name": "ipython",
    "version": 3
   },
   "file_extension": ".py",
   "mimetype": "text/x-python",
   "name": "python",
   "nbconvert_exporter": "python",
   "pygments_lexer": "ipython3",
   "version": "3.8.5"
  }
 },
 "nbformat": 4,
 "nbformat_minor": 4
}
