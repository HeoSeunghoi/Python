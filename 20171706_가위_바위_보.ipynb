{
 "cells": [
  {
   "cell_type": "code",
   "execution_count": null,
   "metadata": {},
   "outputs": [],
   "source": [
    "%%writefile RSP.py\n",
    "import random as r\n",
    "def result(player):\n",
    "    RSK = [\"가위\", \"바위\", \"보\"]\n",
    "    r.seed(a=None, version = 2)\n",
    "    if player == \"가위\":\n",
    "        player_num = 0\n",
    "    elif player == \"바위\":\n",
    "        player_num = 1\n",
    "    elif player == \"보\":\n",
    "        player_num = 2\n",
    "    else:\n",
    "        print(\"잘못된 입력입니다.\")\n",
    "    computer = r.randint(0,2)\n",
    "    print(\"player : %s\"%player)\n",
    "    print(\"computer : %s\"%(RSK[computer]))\n",
    "    \n",
    "    if player_num == computer:\n",
    "        print(\"비겼습니다.\")\n",
    "    elif player_num == 0:\n",
    "        if computer == 1:\n",
    "            print(\"컴퓨터가 이겼습니다.\")\n",
    "        else:\n",
    "            print(\"당신이 이겼습니다.\")\n",
    "    elif player_num == 1:\n",
    "        if computer == 2:\n",
    "            print(\"컴퓨터가 이겼습니다.\")\n",
    "        else:\n",
    "            print(\"당신이 이겼습니다.\")\n",
    "    elif player_num == 2:\n",
    "        if computer == 0:\n",
    "            print(\"컴퓨터가 이겼습니다.\")\n",
    "        else:\n",
    "            print(\"당신이 이겼습니다.\")\n",
    "player = input(\"가위, 바위, 보 중 하나를 선택하시오: \")\n",
    "result(player)"
   ]
  },
  {
   "cell_type": "code",
   "execution_count": 8,
   "metadata": {},
   "outputs": [
    {
     "name": "stdout",
     "output_type": "stream",
     "text": [
      "가위, 바위, 보 중 하나를 선택하시오: 가위\n",
      "player : 가위\n",
      "computer : 보\n",
      "당신이 이겼습니다.\n"
     ]
    }
   ],
   "source": [
    "%run RSP.py"
   ]
  },
  {
   "cell_type": "code",
   "execution_count": null,
   "metadata": {},
   "outputs": [],
   "source": []
  }
 ],
 "metadata": {
  "kernelspec": {
   "display_name": "Python 3",
   "language": "python",
   "name": "python3"
  },
  "language_info": {
   "codemirror_mode": {
    "name": "ipython",
    "version": 3
   },
   "file_extension": ".py",
   "mimetype": "text/x-python",
   "name": "python",
   "nbconvert_exporter": "python",
   "pygments_lexer": "ipython3",
   "version": "3.8.5"
  }
 },
 "nbformat": 4,
 "nbformat_minor": 4
}
