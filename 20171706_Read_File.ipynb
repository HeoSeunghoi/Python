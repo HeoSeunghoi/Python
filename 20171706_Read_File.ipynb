{
 "cells": [
  {
   "cell_type": "code",
   "execution_count": 27,
   "metadata": {},
   "outputs": [
    {
     "name": "stdout",
     "output_type": "stream",
     "text": [
      "Overwriting Read.py\n"
     ]
    }
   ],
   "source": [
    "%%writefile Read.py\n",
    "fw = open(\"ban_stu.txt\",\"wt\")\n",
    "fw.write(\"2 Alice Paul David Bob\\n\")\n",
    "fw.write(\"4 Cindy Stella Bill\\n\")\n",
    "fw.write(\"1 Henry Jenny Jessica Erin Tim\\n\")\n",
    "fw.write(\"3 John Tom\")\n",
    "fw.close()\n",
    "\n",
    "with open(\"ban_stu.txt\",\"rt\") as fr:\n",
    "    lines = fr.readlines()\n",
    "    dictionary = {}\n",
    "    for line in lines:\n",
    "        values = []\n",
    "        file_data = line.strip().split(' ')\n",
    "        key = file_data[0]\n",
    "        for value in file_data:\n",
    "            values.append(value)\n",
    "        dictionary[key] = values\n",
    "        \n",
    "print(dictionary)"
   ]
  },
  {
   "cell_type": "code",
   "execution_count": 28,
   "metadata": {},
   "outputs": [
    {
     "name": "stdout",
     "output_type": "stream",
     "text": [
      "['3', 'John', 'Tom']\n",
      "{'2': ['2', 'Alice', 'Paul', 'David', 'Bob'], '4': ['4', 'Cindy', 'Stella', 'Bill'], '1': ['1', 'Henry', 'Jenny', 'Jessica', 'Erin', 'Tim'], '3': ['3', 'John', 'Tom']}\n"
     ]
    }
   ],
   "source": [
    "%run Read.py"
   ]
  },
  {
   "cell_type": "code",
   "execution_count": null,
   "metadata": {},
   "outputs": [],
   "source": []
  }
 ],
 "metadata": {
  "kernelspec": {
   "display_name": "Python 3",
   "language": "python",
   "name": "python3"
  },
  "language_info": {
   "codemirror_mode": {
    "name": "ipython",
    "version": 3
   },
   "file_extension": ".py",
   "mimetype": "text/x-python",
   "name": "python",
   "nbconvert_exporter": "python",
   "pygments_lexer": "ipython3",
   "version": "3.8.5"
  }
 },
 "nbformat": 4,
 "nbformat_minor": 4
}
