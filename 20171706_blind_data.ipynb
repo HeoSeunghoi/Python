{
 "cells": [
  {
   "cell_type": "code",
   "execution_count": 1,
   "metadata": {},
   "outputs": [
    {
     "name": "stdout",
     "output_type": "stream",
     "text": [
      "Overwriting blind_data.py\n"
     ]
    }
   ],
   "source": [
    "%%writefile blind_data.py\n",
    "import sys\n",
    "\n",
    "def blind_data(data):\n",
    "    line = data.strip().split(' ')\n",
    "    for d in line:\n",
    "        if d[0].isdigit() == True:\n",
    "            check = d.split('-')\n",
    "            if len(check) == 2:\n",
    "                check_gender(d)\n",
    "            else:\n",
    "                print(d + \" \", end = '')\n",
    "        else:\n",
    "            print(d + \" \", end = '')\n",
    "    print(\"\\n\")\n",
    "\n",
    "def check_gender(data):\n",
    "    person_number = data.split('-')\n",
    "    if int(person_number[1][0]) == 1:\n",
    "        print(\"남\", end = ' ')\n",
    "    elif int(person_number[1][0]) == 2:\n",
    "        print(\"여\", end = ' ')\n",
    "    else:\n",
    "        print(\"\\n잘못된 주민등록번호입니다\")\n",
    "        sys.exit()\n",
    "    print(person_number[0] + \"-******* \", end ='')\n",
    "\n",
    "data1 = \"park sunje 890901-1074422\"\n",
    "data2 = \"kim sunhee 990103-2079912\"\n",
    "blind_data(data1)\n",
    "blind_data(data2)\n",
    "with open(\"Testdata.txt\", \"wt\") as fw:\n",
    "    fw.write(\"홍길동 560922-1089123 02-705-8491\\n\")\n",
    "    fw.write(\"홍길동 560922-1089123 042-7052-8491\\n\")\n",
    "    fw.write(\"김바한솔 911212-1089123 042-705-8491\\n\")\n",
    "    fw.write(\"김연찬 920922-1089123 031-7054-8491\")\n",
    "\n",
    "with open(\"Testdata.txt\", \"rt\") as fr:\n",
    "    file_data = fr.readlines()\n",
    "    for data in file_data:\n",
    "        blind_data(data.strip())"
   ]
  },
  {
   "cell_type": "code",
   "execution_count": 2,
   "metadata": {},
   "outputs": [
    {
     "name": "stdout",
     "output_type": "stream",
     "text": [
      "park sunje 남 890901-******* \n",
      "\n",
      "kim sunhee 여 990103-******* \n",
      "\n",
      "홍길동 남 560922-******* 02-705-8491 \n",
      "\n",
      "홍길동 남 560922-******* 042-7052-8491 \n",
      "\n",
      "김바한솔 남 911212-******* 042-705-8491 \n",
      "\n",
      "김연찬 남 920922-******* 031-7054-8491 \n",
      "\n"
     ]
    }
   ],
   "source": [
    "%run blind_data.py"
   ]
  },
  {
   "cell_type": "code",
   "execution_count": null,
   "metadata": {},
   "outputs": [],
   "source": []
  }
 ],
 "metadata": {
  "kernelspec": {
   "display_name": "Python 3",
   "language": "python",
   "name": "python3"
  },
  "language_info": {
   "codemirror_mode": {
    "name": "ipython",
    "version": 3
   },
   "file_extension": ".py",
   "mimetype": "text/x-python",
   "name": "python",
   "nbconvert_exporter": "python",
   "pygments_lexer": "ipython3",
   "version": "3.8.5"
  }
 },
 "nbformat": 4,
 "nbformat_minor": 4
}
