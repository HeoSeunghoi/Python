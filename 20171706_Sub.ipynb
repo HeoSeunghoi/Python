{
 "cells": [
  {
   "cell_type": "code",
   "execution_count": 3,
   "metadata": {},
   "outputs": [
    {
     "name": "stdout",
     "output_type": "stream",
     "text": [
      "Overwriting Sub.py\n"
     ]
    }
   ],
   "source": [
    "%%writefile Sub.py\n",
    "import re\n",
    "\n",
    "def square(match):\n",
    "    value = int(match.group())\n",
    "    return str(value*value)\n",
    "\n",
    "p = re.compile(r\"\\d+\")\n",
    "print(p.sub(square, 'Please, square the following numbers, 3 7 11 13 17 19'))"
   ]
  },
  {
   "cell_type": "code",
   "execution_count": 4,
   "metadata": {},
   "outputs": [
    {
     "name": "stdout",
     "output_type": "stream",
     "text": [
      "Please, square the following numbers, 9 49 121 169 289 361\n"
     ]
    }
   ],
   "source": [
    "%run Sub.py"
   ]
  },
  {
   "cell_type": "code",
   "execution_count": null,
   "metadata": {},
   "outputs": [],
   "source": []
  }
 ],
 "metadata": {
  "kernelspec": {
   "display_name": "Python 3",
   "language": "python",
   "name": "python3"
  },
  "language_info": {
   "codemirror_mode": {
    "name": "ipython",
    "version": 3
   },
   "file_extension": ".py",
   "mimetype": "text/x-python",
   "name": "python",
   "nbconvert_exporter": "python",
   "pygments_lexer": "ipython3",
   "version": "3.8.5"
  }
 },
 "nbformat": 4,
 "nbformat_minor": 4
}
