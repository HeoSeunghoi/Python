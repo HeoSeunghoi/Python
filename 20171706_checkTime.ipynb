{
 "cells": [
  {
   "cell_type": "code",
   "execution_count": 45,
   "metadata": {},
   "outputs": [
    {
     "name": "stdout",
     "output_type": "stream",
     "text": [
      "Overwriting checkTime.py\n"
     ]
    }
   ],
   "source": [
    "%%writefile checkTime.py\n",
    "import time\n",
    "import datetime\n",
    "dt = datetime.datetime.now()\n",
    "class verbose:\n",
    "    def __init__(self, func):\n",
    "        self.func = func\n",
    "    \n",
    "    def __call__(self, *args, **kwargs):\n",
    "        print(\"[\"+dt.strftime(\"%Y-%m-%d %H:%M\")+\"]\")\n",
    "        stime = time.time()\n",
    "        self.func(*args,**kwargs)\n",
    "        checktime = time.time() - stime\n",
    "        print(\"\\n실행시간은: \" + str(checktime))\n",
    "    \n",
    "\n",
    "@verbose\n",
    "def aFunc():\n",
    "    for i in range(100):\n",
    "        print(i+1, end=' ')\n",
    "\n",
    "@verbose\n",
    "def bFunc(*args,**kwargs):\n",
    "    for i in range(args[1] - args[0] + 1):\n",
    "        print(i+args[0], end=' ')\n",
    "    \n",
    "aFunc()\n",
    "print(\"------------------------\")\n",
    "bFunc(101,202)"
   ]
  },
  {
   "cell_type": "code",
   "execution_count": 46,
   "metadata": {},
   "outputs": [
    {
     "name": "stdout",
     "output_type": "stream",
     "text": [
      "[2021-04-17 00:59]\n",
      "1 2 3 4 5 6 7 8 9 10 11 12 13 14 15 16 17 18 19 20 21 22 23 24 25 26 27 28 29 30 31 32 33 34 35 36 37 38 39 40 41 42 43 44 45 46 47 48 49 50 51 52 53 54 55 56 57 58 59 60 61 62 63 64 65 66 67 68 69 70 71 72 73 74 75 76 77 78 79 80 81 82 83 84 85 86 87 88 89 90 91 92 93 94 95 96 97 98 99 100 \n",
      "실행시간은: 0.004000186920166016\n",
      "------------------------\n",
      "[2021-04-17 00:59]\n",
      "101 102 103 104 105 106 107 108 109 110 111 112 113 114 115 116 117 118 119 120 121 122 123 124 125 126 127 128 129 130 131 132 133 134 135 136 137 138 139 140 141 142 143 144 145 146 147 148 149 150 151 152 153 154 155 156 157 158 159 160 161 162 163 164 165 166 167 168 169 170 171 172 173 174 175 176 177 178 179 180 181 182 183 184 185 186 187 188 189 190 191 192 193 194 195 196 197 198 199 200 201 202 \n",
      "실행시간은: 0.004010438919067383\n"
     ]
    }
   ],
   "source": [
    "%run checkTime.py"
   ]
  },
  {
   "cell_type": "code",
   "execution_count": null,
   "metadata": {},
   "outputs": [],
   "source": [
    "%pdb"
   ]
  },
  {
   "cell_type": "code",
   "execution_count": null,
   "metadata": {},
   "outputs": [],
   "source": []
  }
 ],
 "metadata": {
  "kernelspec": {
   "display_name": "Python 3",
   "language": "python",
   "name": "python3"
  },
  "language_info": {
   "codemirror_mode": {
    "name": "ipython",
    "version": 3
   },
   "file_extension": ".py",
   "mimetype": "text/x-python",
   "name": "python",
   "nbconvert_exporter": "python",
   "pygments_lexer": "ipython3",
   "version": "3.8.5"
  }
 },
 "nbformat": 4,
 "nbformat_minor": 4
}
