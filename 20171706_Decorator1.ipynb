{
 "cells": [
  {
   "cell_type": "code",
   "execution_count": 13,
   "metadata": {},
   "outputs": [
    {
     "name": "stdout",
     "output_type": "stream",
     "text": [
      "Overwriting decorator.py\n"
     ]
    }
   ],
   "source": [
    "%%writefile decorator.py\n",
    "class verbose:\n",
    "    def __init__(self, f):\n",
    "        print(\"Initializing Verbose.\")\n",
    "        self.func = f\n",
    "    def __call__(self, name):\n",
    "        self.name = name\n",
    "        print(\"\\nBegine \", self.func.__name__)\n",
    "        self.func(name)\n",
    "        print(\"End \", self.func.__name__)\n",
    "\n",
    "@verbose\n",
    "def my_function(name):\n",
    "    print(\"hello, %s!\" %name)\n",
    "\n",
    "print(\"Program start\")\n",
    "my_function(\"Mickey\")\n",
    "my_function(\"Minnie\")\n",
    "my_function(\"Donald\")"
   ]
  },
  {
   "cell_type": "code",
   "execution_count": 14,
   "metadata": {},
   "outputs": [
    {
     "name": "stdout",
     "output_type": "stream",
     "text": [
      "Initializing Verbose.\n",
      "Program start\n",
      "\n",
      "Begine  my_function\n",
      "hello, Mickey!\n",
      "End  my_function\n",
      "\n",
      "Begine  my_function\n",
      "hello, Minnie!\n",
      "End  my_function\n",
      "\n",
      "Begine  my_function\n",
      "hello, Donald!\n",
      "End  my_function\n"
     ]
    }
   ],
   "source": [
    "%run decorator.py"
   ]
  },
  {
   "cell_type": "code",
   "execution_count": null,
   "metadata": {},
   "outputs": [],
   "source": []
  }
 ],
 "metadata": {
  "kernelspec": {
   "display_name": "Python 3",
   "language": "python",
   "name": "python3"
  },
  "language_info": {
   "codemirror_mode": {
    "name": "ipython",
    "version": 3
   },
   "file_extension": ".py",
   "mimetype": "text/x-python",
   "name": "python",
   "nbconvert_exporter": "python",
   "pygments_lexer": "ipython3",
   "version": "3.8.5"
  }
 },
 "nbformat": 4,
 "nbformat_minor": 4
}
