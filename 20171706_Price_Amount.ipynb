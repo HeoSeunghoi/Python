{
 "cells": [
  {
   "cell_type": "code",
   "execution_count": 19,
   "metadata": {},
   "outputs": [
    {
     "name": "stdout",
     "output_type": "stream",
     "text": [
      "Overwriting PNA.py\n"
     ]
    }
   ],
   "source": [
    "%%writefile PNA.py\n",
    "import re\n",
    "data = \"\"\"\n",
    "I paid $30 for 100 apples,\n",
    "50 oranges, and 60 pears.\n",
    "I saved $5 on this order.\n",
    "\"\"\"\n",
    "P = re.compile(r'(?<=\\$)[0-9]+[.]*[0-9]*',re.M)\n",
    "A = re.compile(r'((?<=\\s)[0-9]+)',re.M)\n",
    "\n",
    "p = P.finditer(data)\n",
    "a = A.finditer(data)\n",
    "\n",
    "if p == None:\n",
    "    print(\"가격을 나타내는 숫자가 없습니다.\")\n",
    "else:\n",
    "    print(\"가격을 나타내는 숫자들\")\n",
    "    for i in p:\n",
    "        print(i.group())\n",
    "        \n",
    "if a == None:\n",
    "    print(\"수량을 나타내는 숫자가 없습니다.\")\n",
    "else:\n",
    "    print(\"수량을 나타내는 숫자들\")\n",
    "    for j in a:\n",
    "        print(j.group())"
   ]
  },
  {
   "cell_type": "code",
   "execution_count": 20,
   "metadata": {},
   "outputs": [
    {
     "name": "stdout",
     "output_type": "stream",
     "text": [
      "가격을 나타내는 숫자들\n",
      "30\n",
      "5\n",
      "수량을 나타내는 숫자들\n",
      "100\n",
      "50\n",
      "60\n"
     ]
    }
   ],
   "source": [
    "%run PNA.py"
   ]
  },
  {
   "cell_type": "code",
   "execution_count": null,
   "metadata": {},
   "outputs": [],
   "source": []
  }
 ],
 "metadata": {
  "kernelspec": {
   "display_name": "Python 3",
   "language": "python",
   "name": "python3"
  },
  "language_info": {
   "codemirror_mode": {
    "name": "ipython",
    "version": 3
   },
   "file_extension": ".py",
   "mimetype": "text/x-python",
   "name": "python",
   "nbconvert_exporter": "python",
   "pygments_lexer": "ipython3",
   "version": "3.8.5"
  }
 },
 "nbformat": 4,
 "nbformat_minor": 4
}
