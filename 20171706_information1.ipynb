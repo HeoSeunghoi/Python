{
 "cells": [
  {
   "cell_type": "code",
   "execution_count": 1,
   "metadata": {},
   "outputs": [
    {
     "name": "stdout",
     "output_type": "stream",
     "text": [
      "Overwriting info1.py\n"
     ]
    }
   ],
   "source": [
    "%%writefile info1.py\n",
    "with open(\"information.txt\",\"wt\") as fw:\n",
    "    fw.write(\"3\\n\")\n",
    "    fw.write(\"3.14\\n\")\n",
    "    fw.write(\"\\\"3.14\\\"\\n\")"
   ]
  },
  {
   "cell_type": "code",
   "execution_count": 2,
   "metadata": {},
   "outputs": [],
   "source": [
    "%run info1.py"
   ]
  },
  {
   "cell_type": "code",
   "execution_count": 3,
   "metadata": {},
   "outputs": [
    {
     "name": "stdout",
     "output_type": "stream",
     "text": [
      "Overwriting infor2.py\n"
     ]
    }
   ],
   "source": [
    "%%writefile infor2.py\n",
    "with open(\"information.txt\",\"rt\") as fr:\n",
    "    print(fr.read())"
   ]
  },
  {
   "cell_type": "code",
   "execution_count": 4,
   "metadata": {},
   "outputs": [
    {
     "name": "stdout",
     "output_type": "stream",
     "text": [
      "3\n",
      "3.14\n",
      "\"3.14\"\n",
      "\n"
     ]
    }
   ],
   "source": [
    "%run infor2.py"
   ]
  },
  {
   "cell_type": "code",
   "execution_count": 5,
   "metadata": {},
   "outputs": [
    {
     "name": "stdout",
     "output_type": "stream",
     "text": [
      "Overwriting info3.py\n"
     ]
    }
   ],
   "source": [
    "%%writefile info3.py\n",
    "import pickle\n",
    "\n",
    "with open(\"inforamtion.dat\", \"wb\") as fw:\n",
    "    pickle.dump(3,fw)\n",
    "    pickle.dump(3.14,fw)\n",
    "    pickle.dump(\"\\\"3.14\\\"\",fw)\n",
    "    fw.close()"
   ]
  },
  {
   "cell_type": "code",
   "execution_count": 6,
   "metadata": {},
   "outputs": [],
   "source": [
    "%run info3.py"
   ]
  },
  {
   "cell_type": "code",
   "execution_count": 7,
   "metadata": {},
   "outputs": [
    {
     "name": "stdout",
     "output_type": "stream",
     "text": [
      "Overwriting info4.py\n"
     ]
    }
   ],
   "source": [
    "%%writefile info4.py\n",
    "import pickle\n",
    "with open(\"inforamtion.dat\", \"rb\") as fr:\n",
    "    while True:\n",
    "        try:\n",
    "            print(pickle.load(fr))\n",
    "        except:\n",
    "            break"
   ]
  },
  {
   "cell_type": "code",
   "execution_count": 8,
   "metadata": {},
   "outputs": [
    {
     "name": "stdout",
     "output_type": "stream",
     "text": [
      "3\n",
      "3.14\n",
      "\"3.14\"\n"
     ]
    }
   ],
   "source": [
    "%run info4.py"
   ]
  },
  {
   "cell_type": "code",
   "execution_count": null,
   "metadata": {},
   "outputs": [],
   "source": []
  }
 ],
 "metadata": {
  "kernelspec": {
   "display_name": "Python 3",
   "language": "python",
   "name": "python3"
  },
  "language_info": {
   "codemirror_mode": {
    "name": "ipython",
    "version": 3
   },
   "file_extension": ".py",
   "mimetype": "text/x-python",
   "name": "python",
   "nbconvert_exporter": "python",
   "pygments_lexer": "ipython3",
   "version": "3.8.5"
  }
 },
 "nbformat": 4,
 "nbformat_minor": 4
}
