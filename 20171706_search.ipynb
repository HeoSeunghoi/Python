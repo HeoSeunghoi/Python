{
 "cells": [
  {
   "cell_type": "code",
   "execution_count": 1,
   "metadata": {},
   "outputs": [
    {
     "name": "stdout",
     "output_type": "stream",
     "text": [
      "Writing Search1.py\n"
     ]
    }
   ],
   "source": [
    "%%writefile Search1.py\n",
    "import re\n",
    "data = \"\"\"\n",
    "<HEAD>\n",
    "<TITLE>Seo Maria's Homepage</TITLE>\n",
    "</HEAD>\n",
    "\"\"\"\n",
    "\n",
    "p = re.compile(r\"\\b(?<=<title>).+(?=</title>)\", re.I)\n",
    "m = p.search(data)\n",
    "print(m.group())"
   ]
  },
  {
   "cell_type": "code",
   "execution_count": 2,
   "metadata": {},
   "outputs": [
    {
     "name": "stdout",
     "output_type": "stream",
     "text": [
      "Seo Maria's Homepage\n"
     ]
    }
   ],
   "source": [
    "%run Search1.py"
   ]
  },
  {
   "cell_type": "code",
   "execution_count": 3,
   "metadata": {},
   "outputs": [
    {
     "name": "stdout",
     "output_type": "stream",
     "text": [
      "Overwriting Search2.py\n"
     ]
    }
   ],
   "source": [
    "%%writefile Search2.py\n",
    "import re\n",
    "\n",
    "data = input(\"input: \")\n",
    "datagroup = []\n",
    "splitdata = data.split(\",\")\n",
    "for string in splitdata:\n",
    "    p = re.compile(r\"(\\w+[.]bat)\")\n",
    "    m = p.search(string)\n",
    "    if m == None:\n",
    "        datagroup.append(string.strip())\n",
    "for i in range(0,len(datagroup) - 1):\n",
    "    print(datagroup[i] + \", \",end ='')\n",
    "print(datagroup[len(datagroup) - 1])"
   ]
  },
  {
   "cell_type": "code",
   "execution_count": 4,
   "metadata": {},
   "outputs": [
    {
     "name": "stdout",
     "output_type": "stream",
     "text": [
      "input: foo.bar, autoexec.bat, sendmail.cf, checksum.exe\n",
      "foo.bar, sendmail.cf, checksum.exe\n"
     ]
    }
   ],
   "source": [
    "%run Search2.py"
   ]
  },
  {
   "cell_type": "code",
   "execution_count": null,
   "metadata": {},
   "outputs": [],
   "source": []
  }
 ],
 "metadata": {
  "kernelspec": {
   "display_name": "Python 3",
   "language": "python",
   "name": "python3"
  },
  "language_info": {
   "codemirror_mode": {
    "name": "ipython",
    "version": 3
   },
   "file_extension": ".py",
   "mimetype": "text/x-python",
   "name": "python",
   "nbconvert_exporter": "python",
   "pygments_lexer": "ipython3",
   "version": "3.8.5"
  }
 },
 "nbformat": 4,
 "nbformat_minor": 4
}
