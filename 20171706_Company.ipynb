{
 "cells": [
  {
   "cell_type": "code",
   "execution_count": 7,
   "metadata": {},
   "outputs": [
    {
     "name": "stdout",
     "output_type": "stream",
     "text": [
      "Overwriting Company.py\n"
     ]
    }
   ],
   "source": [
    "%%writefile Company.py\n",
    "import time\n",
    "import datetime\n",
    "dt = datetime.datetime.now()\n",
    "class verbose:\n",
    "    def __init__(self, func):\n",
    "        self.func = func\n",
    "    \n",
    "    def __call__(self, *arg):\n",
    "        print(\"[\"+dt.strftime(\"%Y-%m-%d %H:%M\")+\"]\")\n",
    "        print(\"Data In\")\n",
    "        stime = time.time()\n",
    "        self.func( *arg)\n",
    "        checktime = time.time() - stime\n",
    "        print(\"\\n실행시간은: \" + str(checktime))\n",
    "        \n",
    "class person(object):\n",
    "    def __init__(self, name, phone_number, age, gender):\n",
    "        self.Name = name\n",
    "        self.Phone_number = phone_number\n",
    "        self.Age = age\n",
    "        self.Gender = gender\n",
    "    @property\n",
    "    def age(self):\n",
    "        return self.Age\n",
    "    @property\n",
    "    def name(self):\n",
    "        return self.Name\n",
    "    @property\n",
    "    def phone_number(self):\n",
    "        return self.Phone_number\n",
    "    @property\n",
    "    def gender(self):\n",
    "        return self.Gender\n",
    "\n",
    "    def printf(self):\n",
    "        return str(self.Name) + \" : \"+str(self.Age)+\"age, \"+str(self.Phone_number)+\", \"+str(self.Gender)\n",
    "        \n",
    "class employee(person):\n",
    "    def __init__(self, ID, name, phone_number, age, gender, department, salary):\n",
    "        person.__init__(self, name, phone_number, age, gender)\n",
    "        self.iD = ID\n",
    "        self.Department = department\n",
    "        self.Salary = salary\n",
    "    @property\n",
    "    def ID(self):\n",
    "        return self.iD\n",
    "    @property\n",
    "    def depertment(self):\n",
    "        return self.Department\n",
    "    @property\n",
    "    def salary(self):\n",
    "        return self.Salary\n",
    "    def printf(self):\n",
    "        return str(person.printf(self))+\", \"+str(self.Department)+\", \"+str(self.Salary)\n",
    "    \n",
    "class manager(employee):\n",
    "    def __init__(self, ID, name, phone_number, age, gender, deptartment, salary, *manages_ID):\n",
    "        employee.__init__(self, ID, name, phone_number, age, gender, deptartment, salary)\n",
    "        self.manages_iD = manages_ID\n",
    "    @property\n",
    "    def manages_ID(self):\n",
    "        return self.manages_iD\n",
    "    def printf(self):\n",
    "        return \"(Manager) \"+str(employee.printf(self))+\", \"+str(str(self.manages_ID))\n",
    "    \n",
    "class staff(employee):\n",
    "    def __init__(self, ID, name, phone_number, age, gender, deptartment, salary, takes):\n",
    "        employee.__init__(self, ID, name, phone_number, age, gender, deptartment, salary)\n",
    "        self.Takes = takes    \n",
    "    @property\n",
    "    def takes(self):\n",
    "        return self.Takes\n",
    "    def printf(self):\n",
    "        return \"(Staff) \"+str(employee.printf(self))+\", \"+str(self.Takes)\n",
    "    \n",
    "@verbose\n",
    "def programstart(*arg):\n",
    "    for i in arg:\n",
    "        print(i)\n",
    "        \n",
    "Kavin = employee(\"20175532\", \"Kavin\", \"01012345678\", \"23\", \"male\", \"Comp. Sci\", \"$10000\")\n",
    "Paul = employee(\"20178765\", \"Paul\", \"01098765432\", \"21\", \"male\", \"Comp. Sci\", \"$11000\")\n",
    "PPKKa = manager(\"20111123\", \"PPKKa\", \"0102341512\", \"25\", \"male\", \"Comp.Sci\", \"$200000\", \"20175532\", \"20178765\")\n",
    "Daehee = staff(\"20179986\", \"Daehee\", \"0101564326\", \"21\", \"female\", \"Physics\", \"$250000\", \"Experiment\")\n",
    "\n",
    "programstart(Kavin.printf(), Paul.printf(), PPKKa.printf(), Daehee.printf())"
   ]
  },
  {
   "cell_type": "code",
   "execution_count": 8,
   "metadata": {},
   "outputs": [
    {
     "name": "stdout",
     "output_type": "stream",
     "text": [
      "[2021-04-24 01:55]\n",
      "Data In\n",
      "Kavin : 23age, 01012345678, male, Comp. Sci, $10000\n",
      "Paul : 21age, 01098765432, male, Comp. Sci, $11000\n",
      "(Manager) PPKKa : 25age, 0102341512, male, Comp.Sci, $200000, ('20175532', '20178765')\n",
      "(Staff) Daehee : 21age, 0101564326, female, Physics, $250000, Experiment\n",
      "\n",
      "실행시간은: 0.0010006427764892578\n"
     ]
    }
   ],
   "source": [
    "%run Company.py"
   ]
  },
  {
   "cell_type": "code",
   "execution_count": null,
   "metadata": {},
   "outputs": [],
   "source": [
    "%pdb"
   ]
  },
  {
   "cell_type": "code",
   "execution_count": null,
   "metadata": {},
   "outputs": [],
   "source": []
  }
 ],
 "metadata": {
  "kernelspec": {
   "display_name": "Python 3",
   "language": "python",
   "name": "python3"
  },
  "language_info": {
   "codemirror_mode": {
    "name": "ipython",
    "version": 3
   },
   "file_extension": ".py",
   "mimetype": "text/x-python",
   "name": "python",
   "nbconvert_exporter": "python",
   "pygments_lexer": "ipython3",
   "version": "3.8.5"
  }
 },
 "nbformat": 4,
 "nbformat_minor": 4
}
