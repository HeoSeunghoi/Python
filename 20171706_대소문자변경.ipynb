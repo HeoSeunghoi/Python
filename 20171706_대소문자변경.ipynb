{
 "cells": [
  {
   "cell_type": "code",
   "execution_count": 1,
   "metadata": {},
   "outputs": [
    {
     "name": "stdout",
     "output_type": "stream",
     "text": [
      "Overwriting chan.py\n"
     ]
    }
   ],
   "source": [
    "%%writefile chan.py\n",
    "def change(string):\n",
    "    line = \"\"    \n",
    "    #입력 받은 문자열 str을 대소문자 변경 후 line에 저장\n",
    "    for i in range(len(string)):\n",
    "        if string[i]<='Z' and string[i]>='A':\n",
    "            x = ord(string[i])\n",
    "            x = x + 32\n",
    "            line += chr(x)\n",
    "        elif string[i]<='z' and string[i]>='a':\n",
    "            x = ord(string[i])\n",
    "            x = x - 32\n",
    "            line += chr(x)\n",
    "        else:\n",
    "            print(\"잘못된 입력입니다.\")\n",
    "    print(line)\n",
    "def count(string):\n",
    "    alpa = []\n",
    "    count = []\n",
    "     #line의 각 원소의 개수를 계산       \n",
    "    for i in range(len(string)):\n",
    "        for j in range(len(alpa)):\n",
    "            if string[i].lower() == alpa[j]:\n",
    "                count[j] = count[j] + 1\n",
    "                break\n",
    "        if string[i].lower() not in alpa:\n",
    "            alpa.append(string[i].lower())\n",
    "            count.append(1)\n",
    "    #결과 출력\n",
    "    for i in range(len(alpa)-1):\n",
    "        print(\"({} : {}) \".format(alpa[i],count[i]), end = '')\n",
    "    print(\"({} : {})\".format(alpa[i+1],count[i+1]))\n",
    "    \n",
    "while 1:\n",
    "    string = input(\"input : \")\n",
    "    if string == \"STOP\":\n",
    "        print(\"Bye\")\n",
    "        break\n",
    "    else:\n",
    "        count(string)\n",
    "        change(string)"
   ]
  },
  {
   "cell_type": "code",
   "execution_count": null,
   "metadata": {},
   "outputs": [
    {
     "name": "stdout",
     "output_type": "stream",
     "text": [
      "input : Sogang\n",
      "(s : 1) (o : 1) (g : 2) (a : 1) (n : 1)\n",
      "sOGANG\n",
      "input : sOgang\n",
      "(s : 1) (o : 1) (g : 2) (a : 1) (n : 1)\n",
      "SoGANG\n",
      "input : HuhSeungHoi\n",
      "(h : 3) (u : 2) (s : 1) (e : 1) (n : 1) (g : 1) (o : 1) (i : 1)\n",
      "hUHsEUNGhOI\n"
     ]
    }
   ],
   "source": [
    "%run chan.py"
   ]
  },
  {
   "cell_type": "code",
   "execution_count": null,
   "metadata": {},
   "outputs": [],
   "source": []
  },
  {
   "cell_type": "code",
   "execution_count": null,
   "metadata": {},
   "outputs": [],
   "source": []
  }
 ],
 "metadata": {
  "kernelspec": {
   "display_name": "Python 3",
   "language": "python",
   "name": "python3"
  },
  "language_info": {
   "codemirror_mode": {
    "name": "ipython",
    "version": 3
   },
   "file_extension": ".py",
   "mimetype": "text/x-python",
   "name": "python",
   "nbconvert_exporter": "python",
   "pygments_lexer": "ipython3",
   "version": "3.8.5"
  }
 },
 "nbformat": 4,
 "nbformat_minor": 4
}
