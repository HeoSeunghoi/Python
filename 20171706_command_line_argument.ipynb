{
 "cells": [
  {
   "cell_type": "code",
   "execution_count": 11,
   "metadata": {},
   "outputs": [
    {
     "name": "stdout",
     "output_type": "stream",
     "text": [
      "Overwriting year.py\n"
     ]
    }
   ],
   "source": [
    "%%writefile year.py\n",
    "import datetime as dt\n",
    "import sys\n",
    "\n",
    "def main():\n",
    "    script = sys.argv[0]\n",
    "    year = int(sys.argv[1])\n",
    "    month = int(sys.argv[2])\n",
    "    day = int(sys.argv[3])\n",
    "    day_name = get_day_name(year,month,day)\n",
    "    if day_name == False:\n",
    "        print(\"입력하신 날짜는 존재하지 않습니다.\")\n",
    "    else:\n",
    "        print(day_name)\n",
    "        if is_leap(year) == True:\n",
    "            print(\"입력하신 %s는 윤년입니다.\" %year)\n",
    "    \n",
    "def get_day_name(year,month,day):\n",
    "    Day = 0\n",
    "    if int(year) <= 0:\n",
    "        return False\n",
    "    if int(month) > 13 or int(month) <= 0:\n",
    "        return False\n",
    "    if int(day) > 31 or int(day) <= 0:\n",
    "        return False\n",
    "    for i in range(1, int(month)+1):\n",
    "        if i in [1,3,5,7,8,10,12]:\n",
    "            if i == int(month):\n",
    "                Day += int(day)\n",
    "            else:\n",
    "                Day += 31\n",
    "        elif i == 2:\n",
    "            if i == int(month):\n",
    "                if is_leap(int(year)) == True:\n",
    "                    if int(day) > 29:\n",
    "                        return False\n",
    "                else:\n",
    "                    if int(day) > 28:\n",
    "                        return False\n",
    "                Day += int(day)\n",
    "            else:\n",
    "                if is_leap(int(year)) == True:\n",
    "                    Day += 29\n",
    "                else:\n",
    "                    Day += 28\n",
    "        else:\n",
    "            if i == int(month):\n",
    "                Day += int(day)\n",
    "            else:\n",
    "                Day += 30\n",
    "\n",
    "    for i in range(1, int(year)):\n",
    "        if is_leap(i) == True:\n",
    "            Day += 366 % 7\n",
    "        else:\n",
    "            Day += 365 % 7\n",
    "    if Day % 7 == 1:\n",
    "        return \"월요일\"\n",
    "    elif Day % 7 == 2:\n",
    "        return \"화요일\"\n",
    "    elif Day % 7 == 3:\n",
    "        return \"수요일\"\n",
    "    elif Day % 7 == 4:\n",
    "        return \"목요일\"\n",
    "    elif Day % 7 == 5:\n",
    "        return \"금요일\"\n",
    "    elif Day % 7 == 6:\n",
    "        return \"토요일\"\n",
    "    else:\n",
    "        return \"일요일\"\n",
    "\n",
    "def is_leap(year):\n",
    "    if int(year) % 100 == 0:\n",
    "        if int(year) % 400 == 0:\n",
    "            return True\n",
    "        return False\n",
    "    elif int(year) % 4 == 0:\n",
    "        return True\n",
    "    else:\n",
    "        return False\n",
    "\n",
    "main()"
   ]
  },
  {
   "cell_type": "code",
   "execution_count": 14,
   "metadata": {},
   "outputs": [
    {
     "name": "stdout",
     "output_type": "stream",
     "text": [
      "일요일\n"
     ]
    }
   ],
   "source": [
    "%run year.py 2018 4 15"
   ]
  },
  {
   "cell_type": "code",
   "execution_count": null,
   "metadata": {},
   "outputs": [],
   "source": []
  },
  {
   "cell_type": "code",
   "execution_count": null,
   "metadata": {},
   "outputs": [],
   "source": []
  }
 ],
 "metadata": {
  "kernelspec": {
   "display_name": "Python 3",
   "language": "python",
   "name": "python3"
  },
  "language_info": {
   "codemirror_mode": {
    "name": "ipython",
    "version": 3
   },
   "file_extension": ".py",
   "mimetype": "text/x-python",
   "name": "python",
   "nbconvert_exporter": "python",
   "pygments_lexer": "ipython3",
   "version": "3.8.5"
  }
 },
 "nbformat": 4,
 "nbformat_minor": 4
}
