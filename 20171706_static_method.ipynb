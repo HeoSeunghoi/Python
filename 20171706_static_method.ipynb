{
 "cells": [
  {
   "cell_type": "code",
   "execution_count": 7,
   "metadata": {},
   "outputs": [
    {
     "name": "stdout",
     "output_type": "stream",
     "text": [
      "Overwriting Date.py\n"
     ]
    }
   ],
   "source": [
    "%%writefile Date.py\n",
    "\n",
    "class Date(object):\n",
    "    date = \"\"\n",
    "    def __init__(self, line):\n",
    "        date = line\n",
    "        self.date = \"date : \"+line\n",
    "        \n",
    "    def show(self):\n",
    "        print(self.date)\n",
    "    \n",
    "    @staticmethod\n",
    "    def now():\n",
    "        return Date(\"today\")\n",
    "        \n",
    "    @staticmethod\n",
    "    def yesterDay(line):\n",
    "        flag = 0\n",
    "        year = \"\"\n",
    "        month = \"\"\n",
    "        day = \"\"\n",
    "        date = \"\"\n",
    "        for i in range(len(line)):\n",
    "            if line[i] == ' ':\n",
    "                continue\n",
    "            if line[i] == ',':\n",
    "                flag += 1\n",
    "                i += 1\n",
    "                continue\n",
    "            elif flag == 0:\n",
    "                year += line[i]\n",
    "            elif flag == 1:\n",
    "                month += line[i]\n",
    "            else:\n",
    "                day += line[i]\n",
    "        day = int(day) - 1\n",
    "        date = year+\", \"+month+\", \"+str(day)\n",
    "        return Date(date)\n",
    "\n",
    "a = Date(\"2020, 10, 13\")\n",
    "a.show()\n",
    "b = Date.now()\n",
    "print(b.date)\n",
    "c = Date.yesterDay(\"2020, 10, 13\")\n",
    "print(c.date)"
   ]
  },
  {
   "cell_type": "code",
   "execution_count": 8,
   "metadata": {},
   "outputs": [
    {
     "name": "stdout",
     "output_type": "stream",
     "text": [
      "date : 2020, 10, 13\n",
      "date : today\n",
      "date : 2020, 10, 12\n"
     ]
    }
   ],
   "source": [
    "%run Date.py"
   ]
  },
  {
   "cell_type": "code",
   "execution_count": null,
   "metadata": {},
   "outputs": [],
   "source": [
    "%pdb"
   ]
  },
  {
   "cell_type": "code",
   "execution_count": null,
   "metadata": {},
   "outputs": [],
   "source": []
  }
 ],
 "metadata": {
  "kernelspec": {
   "display_name": "Python 3",
   "language": "python",
   "name": "python3"
  },
  "language_info": {
   "codemirror_mode": {
    "name": "ipython",
    "version": 3
   },
   "file_extension": ".py",
   "mimetype": "text/x-python",
   "name": "python",
   "nbconvert_exporter": "python",
   "pygments_lexer": "ipython3",
   "version": "3.8.5"
  }
 },
 "nbformat": 4,
 "nbformat_minor": 4
}
